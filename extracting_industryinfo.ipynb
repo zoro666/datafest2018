{
 "cells": [
  {
   "cell_type": "code",
   "execution_count": 1,
   "metadata": {
    "collapsed": true
   },
   "outputs": [],
   "source": [
    "import pandas as pd \n",
    "import numpy as np\n",
    "import matplotlib.pyplot as plt\n",
    "read = '/home/zoro/Desktop/datafest2018/DataFest-Dataset-2018.csv/data2/'\n",
    "write= '/home/zoro/Desktop/datafest2018/DataFest-Dataset-2018.csv/output/'\n",
    "filename = 'US_clean1.csv'"
   ]
  },
  {
   "cell_type": "code",
   "execution_count": 2,
   "metadata": {
    "collapsed": true
   },
   "outputs": [],
   "source": [
    "df = pd.read_csv(read+filename).drop(['Unnamed: 0'], axis=1) # read the file and drop first column"
   ]
  },
  {
   "cell_type": "code",
   "execution_count": 4,
   "metadata": {},
   "outputs": [
    {
     "data": {
      "text/plain": [
       "(11547904, 24)"
      ]
     },
     "execution_count": 4,
     "metadata": {},
     "output_type": "execute_result"
    }
   ],
   "source": [
    "df.shape"
   ]
  },
  {
   "cell_type": "code",
   "execution_count": 5,
   "metadata": {},
   "outputs": [
    {
     "data": {
      "text/html": [
       "<div>\n",
       "<style>\n",
       "    .dataframe thead tr:only-child th {\n",
       "        text-align: right;\n",
       "    }\n",
       "\n",
       "    .dataframe thead th {\n",
       "        text-align: left;\n",
       "    }\n",
       "\n",
       "    .dataframe tbody tr th {\n",
       "        vertical-align: top;\n",
       "    }\n",
       "</style>\n",
       "<table border=\"1\" class=\"dataframe\">\n",
       "  <thead>\n",
       "    <tr style=\"text-align: right;\">\n",
       "      <th></th>\n",
       "      <th>date</th>\n",
       "      <th>companyId</th>\n",
       "      <th>jobId</th>\n",
       "      <th>country</th>\n",
       "      <th>stateProvince</th>\n",
       "      <th>city</th>\n",
       "      <th>avgOverallRating</th>\n",
       "      <th>numReviews</th>\n",
       "      <th>industry</th>\n",
       "      <th>normTitle</th>\n",
       "      <th>...</th>\n",
       "      <th>estimatedSalary</th>\n",
       "      <th>salaryCurrency</th>\n",
       "      <th>jobLanguage</th>\n",
       "      <th>supervisingJob</th>\n",
       "      <th>licenseRequiredJob</th>\n",
       "      <th>educationRequirements</th>\n",
       "      <th>jobAgeDays</th>\n",
       "      <th>clicks</th>\n",
       "      <th>localClicks</th>\n",
       "      <th>label</th>\n",
       "    </tr>\n",
       "  </thead>\n",
       "  <tbody>\n",
       "    <tr>\n",
       "      <th>0</th>\n",
       "      <td>2016-11-01</td>\n",
       "      <td>company00002</td>\n",
       "      <td>job0000002</td>\n",
       "      <td>US</td>\n",
       "      <td>AZ</td>\n",
       "      <td>Peoria</td>\n",
       "      <td>0.0</td>\n",
       "      <td>NaN</td>\n",
       "      <td>NaN</td>\n",
       "      <td>customer service representative</td>\n",
       "      <td>...</td>\n",
       "      <td>22800</td>\n",
       "      <td>NaN</td>\n",
       "      <td>EN</td>\n",
       "      <td>0.0</td>\n",
       "      <td>0.0</td>\n",
       "      <td>High School</td>\n",
       "      <td>99</td>\n",
       "      <td>12</td>\n",
       "      <td>2</td>\n",
       "      <td>43</td>\n",
       "    </tr>\n",
       "    <tr>\n",
       "      <th>1</th>\n",
       "      <td>2016-11-01</td>\n",
       "      <td>company00977</td>\n",
       "      <td>job0046801</td>\n",
       "      <td>US</td>\n",
       "      <td>FL</td>\n",
       "      <td>Gainesville</td>\n",
       "      <td>3.1</td>\n",
       "      <td>3576.0</td>\n",
       "      <td>HEALTH_CARE</td>\n",
       "      <td>case manager</td>\n",
       "      <td>...</td>\n",
       "      <td>42600</td>\n",
       "      <td>NaN</td>\n",
       "      <td>EN</td>\n",
       "      <td>1.0</td>\n",
       "      <td>1.0</td>\n",
       "      <td>Higher Education</td>\n",
       "      <td>19</td>\n",
       "      <td>36</td>\n",
       "      <td>24</td>\n",
       "      <td>24378</td>\n",
       "    </tr>\n",
       "    <tr>\n",
       "      <th>2</th>\n",
       "      <td>2016-11-01</td>\n",
       "      <td>company34117</td>\n",
       "      <td>job0070172</td>\n",
       "      <td>US</td>\n",
       "      <td>TX</td>\n",
       "      <td>Dallas</td>\n",
       "      <td>4.0</td>\n",
       "      <td>9.0</td>\n",
       "      <td>NaN</td>\n",
       "      <td>licensed clinical social worker</td>\n",
       "      <td>...</td>\n",
       "      <td>50300</td>\n",
       "      <td>NaN</td>\n",
       "      <td>EN</td>\n",
       "      <td>0.0</td>\n",
       "      <td>1.0</td>\n",
       "      <td>Higher Education</td>\n",
       "      <td>5</td>\n",
       "      <td>88</td>\n",
       "      <td>14</td>\n",
       "      <td>332460</td>\n",
       "    </tr>\n",
       "    <tr>\n",
       "      <th>3</th>\n",
       "      <td>2016-11-01</td>\n",
       "      <td>company05230</td>\n",
       "      <td>job0010362</td>\n",
       "      <td>US</td>\n",
       "      <td>NY</td>\n",
       "      <td>Yonkers</td>\n",
       "      <td>3.5</td>\n",
       "      <td>36.0</td>\n",
       "      <td>NaN</td>\n",
       "      <td>security</td>\n",
       "      <td>...</td>\n",
       "      <td>41500</td>\n",
       "      <td>NaN</td>\n",
       "      <td>EN</td>\n",
       "      <td>1.0</td>\n",
       "      <td>1.0</td>\n",
       "      <td>Higher Education</td>\n",
       "      <td>64</td>\n",
       "      <td>13</td>\n",
       "      <td>0</td>\n",
       "      <td>99285</td>\n",
       "    </tr>\n",
       "    <tr>\n",
       "      <th>4</th>\n",
       "      <td>2016-11-01</td>\n",
       "      <td>company20349</td>\n",
       "      <td>job0054168</td>\n",
       "      <td>US</td>\n",
       "      <td>MI</td>\n",
       "      <td>Charter Township of Brownstown</td>\n",
       "      <td>0.0</td>\n",
       "      <td>NaN</td>\n",
       "      <td>NaN</td>\n",
       "      <td>grocery associate</td>\n",
       "      <td>...</td>\n",
       "      <td>22600</td>\n",
       "      <td>NaN</td>\n",
       "      <td>EN</td>\n",
       "      <td>0.0</td>\n",
       "      <td>0.0</td>\n",
       "      <td>None</td>\n",
       "      <td>14</td>\n",
       "      <td>22</td>\n",
       "      <td>0</td>\n",
       "      <td>268079</td>\n",
       "    </tr>\n",
       "  </tbody>\n",
       "</table>\n",
       "<p>5 rows × 24 columns</p>\n",
       "</div>"
      ],
      "text/plain": [
       "         date     companyId       jobId country stateProvince  \\\n",
       "0  2016-11-01  company00002  job0000002      US            AZ   \n",
       "1  2016-11-01  company00977  job0046801      US            FL   \n",
       "2  2016-11-01  company34117  job0070172      US            TX   \n",
       "3  2016-11-01  company05230  job0010362      US            NY   \n",
       "4  2016-11-01  company20349  job0054168      US            MI   \n",
       "\n",
       "                             city  avgOverallRating  numReviews     industry  \\\n",
       "0                          Peoria               0.0         NaN          NaN   \n",
       "1                     Gainesville               3.1      3576.0  HEALTH_CARE   \n",
       "2                          Dallas               4.0         9.0          NaN   \n",
       "3                         Yonkers               3.5        36.0          NaN   \n",
       "4  Charter Township of Brownstown               0.0         NaN          NaN   \n",
       "\n",
       "                         normTitle   ...   estimatedSalary  salaryCurrency  \\\n",
       "0  customer service representative   ...             22800             NaN   \n",
       "1                     case manager   ...             42600             NaN   \n",
       "2  licensed clinical social worker   ...             50300             NaN   \n",
       "3                         security   ...             41500             NaN   \n",
       "4                grocery associate   ...             22600             NaN   \n",
       "\n",
       "   jobLanguage  supervisingJob  licenseRequiredJob educationRequirements  \\\n",
       "0           EN             0.0                 0.0           High School   \n",
       "1           EN             1.0                 1.0      Higher Education   \n",
       "2           EN             0.0                 1.0      Higher Education   \n",
       "3           EN             1.0                 1.0      Higher Education   \n",
       "4           EN             0.0                 0.0                  None   \n",
       "\n",
       "  jobAgeDays  clicks  localClicks   label  \n",
       "0         99      12            2      43  \n",
       "1         19      36           24   24378  \n",
       "2          5      88           14  332460  \n",
       "3         64      13            0   99285  \n",
       "4         14      22            0  268079  \n",
       "\n",
       "[5 rows x 24 columns]"
      ]
     },
     "execution_count": 5,
     "metadata": {},
     "output_type": "execute_result"
    }
   ],
   "source": [
    "df.head()"
   ]
  },
  {
   "cell_type": "code",
   "execution_count": 6,
   "metadata": {},
   "outputs": [
    {
     "data": {
      "text/plain": [
       "Index([u'date', u'companyId', u'jobId', u'country', u'stateProvince', u'city',\n",
       "       u'avgOverallRating', u'numReviews', u'industry', u'normTitle',\n",
       "       u'normTitleCategory', u'descriptionCharacterLength',\n",
       "       u'descriptionWordCount', u'experienceRequired', u'estimatedSalary',\n",
       "       u'salaryCurrency', u'jobLanguage', u'supervisingJob',\n",
       "       u'licenseRequiredJob', u'educationRequirements', u'jobAgeDays',\n",
       "       u'clicks', u'localClicks', u'label'],\n",
       "      dtype='object')"
      ]
     },
     "execution_count": 6,
     "metadata": {},
     "output_type": "execute_result"
    }
   ],
   "source": [
    "df.columns"
   ]
  },
  {
   "cell_type": "code",
   "execution_count": 7,
   "metadata": {
    "collapsed": true
   },
   "outputs": [],
   "source": [
    "df1 = df.loc[:,['date','companyId','jobId','stateProvince','city','industry','normTitle','normTitleCategory','experienceRequired','estimatedSalary']]"
   ]
  },
  {
   "cell_type": "code",
   "execution_count": 8,
   "metadata": {},
   "outputs": [
    {
     "data": {
      "text/plain": [
       "(11547904, 10)"
      ]
     },
     "execution_count": 8,
     "metadata": {},
     "output_type": "execute_result"
    }
   ],
   "source": [
    "df1.shape"
   ]
  },
  {
   "cell_type": "code",
   "execution_count": 9,
   "metadata": {
    "collapsed": true
   },
   "outputs": [],
   "source": [
    "df1.to_csv(write+'US_companies.csv')"
   ]
  },
  {
   "cell_type": "code",
   "execution_count": null,
   "metadata": {
    "collapsed": true
   },
   "outputs": [],
   "source": []
  }
 ],
 "metadata": {
  "kernelspec": {
   "display_name": "Python 2",
   "language": "python",
   "name": "python2"
  },
  "language_info": {
   "codemirror_mode": {
    "name": "ipython",
    "version": 2
   },
   "file_extension": ".py",
   "mimetype": "text/x-python",
   "name": "python",
   "nbconvert_exporter": "python",
   "pygments_lexer": "ipython2",
   "version": "2.7.14"
  }
 },
 "nbformat": 4,
 "nbformat_minor": 2
}
